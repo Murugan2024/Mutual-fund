{
 "cells": [
  {
   "cell_type": "code",
   "execution_count": 15,
   "id": "49e004c7",
   "metadata": {},
   "outputs": [],
   "source": [
    "import numpy as np\n",
    "import pandas as pd\n",
    "import matplotlib.pyplot as plt"
   ]
  },
  {
   "cell_type": "code",
   "execution_count": 16,
   "id": "df9a8ddf",
   "metadata": {},
   "outputs": [],
   "source": [
    "%matplotlib inline"
   ]
  },
  {
   "cell_type": "code",
   "execution_count": 17,
   "id": "4d0de569",
   "metadata": {},
   "outputs": [
    {
     "data": {
      "text/html": [
       "<div>\n",
       "<style scoped>\n",
       "    .dataframe tbody tr th:only-of-type {\n",
       "        vertical-align: middle;\n",
       "    }\n",
       "\n",
       "    .dataframe tbody tr th {\n",
       "        vertical-align: top;\n",
       "    }\n",
       "\n",
       "    .dataframe thead th {\n",
       "        text-align: right;\n",
       "    }\n",
       "</style>\n",
       "<table border=\"1\" class=\"dataframe\">\n",
       "  <thead>\n",
       "    <tr style=\"text-align: right;\">\n",
       "      <th></th>\n",
       "      <th>scheme_name</th>\n",
       "      <th>min_sip</th>\n",
       "      <th>min_lumpsum</th>\n",
       "      <th>expense_ratio</th>\n",
       "      <th>fund_size_cr</th>\n",
       "      <th>fund_age_yr</th>\n",
       "      <th>fund_manager</th>\n",
       "      <th>sortino</th>\n",
       "      <th>alpha</th>\n",
       "      <th>sd</th>\n",
       "      <th>beta</th>\n",
       "      <th>sharpe</th>\n",
       "      <th>risk_level</th>\n",
       "      <th>amc_name</th>\n",
       "      <th>rating</th>\n",
       "      <th>category</th>\n",
       "      <th>sub_category</th>\n",
       "      <th>returns_1yr</th>\n",
       "      <th>returns_3yr</th>\n",
       "      <th>returns_5yr</th>\n",
       "    </tr>\n",
       "  </thead>\n",
       "  <tbody>\n",
       "    <tr>\n",
       "      <th>0</th>\n",
       "      <td>Aditya Birla SL Active Debt Multi-Mgr FoF-Dir ...</td>\n",
       "      <td>100</td>\n",
       "      <td>100</td>\n",
       "      <td>0.27</td>\n",
       "      <td>10.0</td>\n",
       "      <td>10</td>\n",
       "      <td>Kaustubh Gupta</td>\n",
       "      <td>0.32</td>\n",
       "      <td>2.24</td>\n",
       "      <td>9.39</td>\n",
       "      <td>0.01</td>\n",
       "      <td>0.24</td>\n",
       "      <td>3</td>\n",
       "      <td>Aditya Birla Sun Life Mutual Fund</td>\n",
       "      <td>3</td>\n",
       "      <td>Other</td>\n",
       "      <td>FoFs Domestic</td>\n",
       "      <td>4.0</td>\n",
       "      <td>6.5</td>\n",
       "      <td>6.9</td>\n",
       "    </tr>\n",
       "    <tr>\n",
       "      <th>1</th>\n",
       "      <td>Aditya Birla SL Arbitrage Fund</td>\n",
       "      <td>1000</td>\n",
       "      <td>1000</td>\n",
       "      <td>0.36</td>\n",
       "      <td>4288.0</td>\n",
       "      <td>10</td>\n",
       "      <td>Lovelish Solanki</td>\n",
       "      <td>1.33</td>\n",
       "      <td>1.53</td>\n",
       "      <td>0.72</td>\n",
       "      <td>0.56</td>\n",
       "      <td>1.1</td>\n",
       "      <td>1</td>\n",
       "      <td>Aditya Birla Sun Life Mutual Fund</td>\n",
       "      <td>3</td>\n",
       "      <td>Hybrid</td>\n",
       "      <td>Arbitrage Mutual Funds</td>\n",
       "      <td>5.6</td>\n",
       "      <td>4.8</td>\n",
       "      <td>5.5</td>\n",
       "    </tr>\n",
       "    <tr>\n",
       "      <th>2</th>\n",
       "      <td>Aditya Birla SL Asset Allocator FoF-Dir Growth</td>\n",
       "      <td>1000</td>\n",
       "      <td>1000</td>\n",
       "      <td>0.53</td>\n",
       "      <td>157.0</td>\n",
       "      <td>10</td>\n",
       "      <td>Vinod Narayan Bhat</td>\n",
       "      <td>3.44</td>\n",
       "      <td>2.67</td>\n",
       "      <td>10.58</td>\n",
       "      <td>0.67</td>\n",
       "      <td>1.42</td>\n",
       "      <td>5</td>\n",
       "      <td>Aditya Birla Sun Life Mutual Fund</td>\n",
       "      <td>3</td>\n",
       "      <td>Other</td>\n",
       "      <td>FoFs Domestic</td>\n",
       "      <td>2.0</td>\n",
       "      <td>18.9</td>\n",
       "      <td>9.7</td>\n",
       "    </tr>\n",
       "    <tr>\n",
       "      <th>3</th>\n",
       "      <td>Aditya Birla SL Bal Bhavishya Yojna ? Dir Growth</td>\n",
       "      <td>500</td>\n",
       "      <td>1000</td>\n",
       "      <td>0.76</td>\n",
       "      <td>637.0</td>\n",
       "      <td>4</td>\n",
       "      <td>Atul Penkar</td>\n",
       "      <td>2.18</td>\n",
       "      <td>-6.37</td>\n",
       "      <td>14.99</td>\n",
       "      <td>0.85</td>\n",
       "      <td>0.9</td>\n",
       "      <td>6</td>\n",
       "      <td>Aditya Birla Sun Life Mutual Fund</td>\n",
       "      <td>2</td>\n",
       "      <td>Solution Oriented</td>\n",
       "      <td>Childrens Funds</td>\n",
       "      <td>-0.7</td>\n",
       "      <td>17.1</td>\n",
       "      <td>NaN</td>\n",
       "    </tr>\n",
       "    <tr>\n",
       "      <th>4</th>\n",
       "      <td>Aditya Birla SL Balanced Advantage Fund</td>\n",
       "      <td>100</td>\n",
       "      <td>100</td>\n",
       "      <td>0.61</td>\n",
       "      <td>6386.0</td>\n",
       "      <td>10</td>\n",
       "      <td>Mohit Sharma</td>\n",
       "      <td>3.69</td>\n",
       "      <td>1.99</td>\n",
       "      <td>10.38</td>\n",
       "      <td>0.68</td>\n",
       "      <td>1.39</td>\n",
       "      <td>6</td>\n",
       "      <td>Aditya Birla Sun Life Mutual Fund</td>\n",
       "      <td>4</td>\n",
       "      <td>Hybrid</td>\n",
       "      <td>Dynamic Asset Allocation or Balanced Advantage</td>\n",
       "      <td>4.5</td>\n",
       "      <td>18.6</td>\n",
       "      <td>9.7</td>\n",
       "    </tr>\n",
       "    <tr>\n",
       "      <th>...</th>\n",
       "      <td>...</td>\n",
       "      <td>...</td>\n",
       "      <td>...</td>\n",
       "      <td>...</td>\n",
       "      <td>...</td>\n",
       "      <td>...</td>\n",
       "      <td>...</td>\n",
       "      <td>...</td>\n",
       "      <td>...</td>\n",
       "      <td>...</td>\n",
       "      <td>...</td>\n",
       "      <td>...</td>\n",
       "      <td>...</td>\n",
       "      <td>...</td>\n",
       "      <td>...</td>\n",
       "      <td>...</td>\n",
       "      <td>...</td>\n",
       "      <td>...</td>\n",
       "      <td>...</td>\n",
       "      <td>...</td>\n",
       "    </tr>\n",
       "    <tr>\n",
       "      <th>809</th>\n",
       "      <td>UTI-Unit Linked Insurance Plan ? Direct</td>\n",
       "      <td>500</td>\n",
       "      <td>15000</td>\n",
       "      <td>0.96</td>\n",
       "      <td>5068.0</td>\n",
       "      <td>10</td>\n",
       "      <td>Amandeep Chopra</td>\n",
       "      <td>2.47</td>\n",
       "      <td>0.92</td>\n",
       "      <td>7.06</td>\n",
       "      <td>0.44</td>\n",
       "      <td>1.29</td>\n",
       "      <td>4</td>\n",
       "      <td>UTI Mutual Fund</td>\n",
       "      <td>0</td>\n",
       "      <td>Hybrid</td>\n",
       "      <td>Dynamic Asset Allocation or Balanced Advantage</td>\n",
       "      <td>-0.7</td>\n",
       "      <td>13.1</td>\n",
       "      <td>6.2</td>\n",
       "    </tr>\n",
       "    <tr>\n",
       "      <th>810</th>\n",
       "      <td>UTI-Value Opportunities Fund</td>\n",
       "      <td>500</td>\n",
       "      <td>5000</td>\n",
       "      <td>1.16</td>\n",
       "      <td>6740.0</td>\n",
       "      <td>10</td>\n",
       "      <td>Vetri Subramaniam</td>\n",
       "      <td>3.21</td>\n",
       "      <td>2.73</td>\n",
       "      <td>15.62</td>\n",
       "      <td>0.9</td>\n",
       "      <td>1.48</td>\n",
       "      <td>6</td>\n",
       "      <td>UTI Mutual Fund</td>\n",
       "      <td>4</td>\n",
       "      <td>Equity</td>\n",
       "      <td>Value Funds</td>\n",
       "      <td>1.7</td>\n",
       "      <td>27.2</td>\n",
       "      <td>12.2</td>\n",
       "    </tr>\n",
       "    <tr>\n",
       "      <th>811</th>\n",
       "      <td>WhiteOak Capital Liquid Fund</td>\n",
       "      <td>500</td>\n",
       "      <td>500</td>\n",
       "      <td>0.26</td>\n",
       "      <td>197.0</td>\n",
       "      <td>4</td>\n",
       "      <td>Piyush Baranwal</td>\n",
       "      <td>-0.42</td>\n",
       "      <td>0.93</td>\n",
       "      <td>0.39</td>\n",
       "      <td>0.72</td>\n",
       "      <td>-0.07</td>\n",
       "      <td>1</td>\n",
       "      <td>WhiteOak Capital Mutual Fund</td>\n",
       "      <td>1</td>\n",
       "      <td>Debt</td>\n",
       "      <td>Liquid Mutual Funds</td>\n",
       "      <td>5.3</td>\n",
       "      <td>3.8</td>\n",
       "      <td>NaN</td>\n",
       "    </tr>\n",
       "    <tr>\n",
       "      <th>812</th>\n",
       "      <td>WhiteOak Capital Overnight Fund</td>\n",
       "      <td>500</td>\n",
       "      <td>500</td>\n",
       "      <td>0.22</td>\n",
       "      <td>14.0</td>\n",
       "      <td>4</td>\n",
       "      <td>Piyush Baranwal</td>\n",
       "      <td>-0.42</td>\n",
       "      <td>0.93</td>\n",
       "      <td>0.39</td>\n",
       "      <td>0.72</td>\n",
       "      <td>-0.07</td>\n",
       "      <td>1</td>\n",
       "      <td>WhiteOak Capital Mutual Fund</td>\n",
       "      <td>1</td>\n",
       "      <td>Debt</td>\n",
       "      <td>Overnight Mutual Funds</td>\n",
       "      <td>1.7</td>\n",
       "      <td>32.4</td>\n",
       "      <td>13.3</td>\n",
       "    </tr>\n",
       "    <tr>\n",
       "      <th>813</th>\n",
       "      <td>WhiteOak Capital Ultra Short Term Fund</td>\n",
       "      <td>500</td>\n",
       "      <td>500</td>\n",
       "      <td>0.33</td>\n",
       "      <td>141.0</td>\n",
       "      <td>4</td>\n",
       "      <td>Piyush Baranwal</td>\n",
       "      <td>2.81</td>\n",
       "      <td>1.2</td>\n",
       "      <td>0.72</td>\n",
       "      <td>0.47</td>\n",
       "      <td>0.8</td>\n",
       "      <td>1</td>\n",
       "      <td>WhiteOak Capital Mutual Fund</td>\n",
       "      <td>2</td>\n",
       "      <td>Debt</td>\n",
       "      <td>Ultra Short Duration Funds</td>\n",
       "      <td>5.3</td>\n",
       "      <td>4.5</td>\n",
       "      <td>NaN</td>\n",
       "    </tr>\n",
       "  </tbody>\n",
       "</table>\n",
       "<p>814 rows × 20 columns</p>\n",
       "</div>"
      ],
      "text/plain": [
       "                                           scheme_name  min_sip  min_lumpsum  \\\n",
       "0    Aditya Birla SL Active Debt Multi-Mgr FoF-Dir ...      100          100   \n",
       "1                       Aditya Birla SL Arbitrage Fund     1000         1000   \n",
       "2       Aditya Birla SL Asset Allocator FoF-Dir Growth     1000         1000   \n",
       "3     Aditya Birla SL Bal Bhavishya Yojna ? Dir Growth      500         1000   \n",
       "4              Aditya Birla SL Balanced Advantage Fund      100          100   \n",
       "..                                                 ...      ...          ...   \n",
       "809            UTI-Unit Linked Insurance Plan ? Direct      500        15000   \n",
       "810                       UTI-Value Opportunities Fund      500         5000   \n",
       "811                       WhiteOak Capital Liquid Fund      500          500   \n",
       "812                    WhiteOak Capital Overnight Fund      500          500   \n",
       "813             WhiteOak Capital Ultra Short Term Fund      500          500   \n",
       "\n",
       "     expense_ratio  fund_size_cr  fund_age_yr        fund_manager sortino  \\\n",
       "0             0.27          10.0           10      Kaustubh Gupta    0.32   \n",
       "1             0.36        4288.0           10    Lovelish Solanki    1.33   \n",
       "2             0.53         157.0           10  Vinod Narayan Bhat    3.44   \n",
       "3             0.76         637.0            4         Atul Penkar    2.18   \n",
       "4             0.61        6386.0           10        Mohit Sharma    3.69   \n",
       "..             ...           ...          ...                 ...     ...   \n",
       "809           0.96        5068.0           10     Amandeep Chopra    2.47   \n",
       "810           1.16        6740.0           10   Vetri Subramaniam    3.21   \n",
       "811           0.26         197.0            4     Piyush Baranwal   -0.42   \n",
       "812           0.22          14.0            4     Piyush Baranwal   -0.42   \n",
       "813           0.33         141.0            4     Piyush Baranwal    2.81   \n",
       "\n",
       "     alpha     sd  beta sharpe  risk_level                           amc_name  \\\n",
       "0     2.24   9.39  0.01   0.24           3  Aditya Birla Sun Life Mutual Fund   \n",
       "1     1.53   0.72  0.56    1.1           1  Aditya Birla Sun Life Mutual Fund   \n",
       "2     2.67  10.58  0.67   1.42           5  Aditya Birla Sun Life Mutual Fund   \n",
       "3    -6.37  14.99  0.85    0.9           6  Aditya Birla Sun Life Mutual Fund   \n",
       "4     1.99  10.38  0.68   1.39           6  Aditya Birla Sun Life Mutual Fund   \n",
       "..     ...    ...   ...    ...         ...                                ...   \n",
       "809   0.92   7.06  0.44   1.29           4                    UTI Mutual Fund   \n",
       "810   2.73  15.62   0.9   1.48           6                    UTI Mutual Fund   \n",
       "811   0.93   0.39  0.72  -0.07           1       WhiteOak Capital Mutual Fund   \n",
       "812   0.93   0.39  0.72  -0.07           1       WhiteOak Capital Mutual Fund   \n",
       "813    1.2   0.72  0.47    0.8           1       WhiteOak Capital Mutual Fund   \n",
       "\n",
       "     rating           category  \\\n",
       "0         3              Other   \n",
       "1         3             Hybrid   \n",
       "2         3              Other   \n",
       "3         2  Solution Oriented   \n",
       "4         4             Hybrid   \n",
       "..      ...                ...   \n",
       "809       0             Hybrid   \n",
       "810       4             Equity   \n",
       "811       1               Debt   \n",
       "812       1               Debt   \n",
       "813       2               Debt   \n",
       "\n",
       "                                       sub_category  returns_1yr  returns_3yr  \\\n",
       "0                                     FoFs Domestic          4.0          6.5   \n",
       "1                            Arbitrage Mutual Funds          5.6          4.8   \n",
       "2                                     FoFs Domestic          2.0         18.9   \n",
       "3                                   Childrens Funds         -0.7         17.1   \n",
       "4    Dynamic Asset Allocation or Balanced Advantage          4.5         18.6   \n",
       "..                                              ...          ...          ...   \n",
       "809  Dynamic Asset Allocation or Balanced Advantage         -0.7         13.1   \n",
       "810                                     Value Funds          1.7         27.2   \n",
       "811                             Liquid Mutual Funds          5.3          3.8   \n",
       "812                          Overnight Mutual Funds          1.7         32.4   \n",
       "813                      Ultra Short Duration Funds          5.3          4.5   \n",
       "\n",
       "     returns_5yr  \n",
       "0            6.9  \n",
       "1            5.5  \n",
       "2            9.7  \n",
       "3            NaN  \n",
       "4            9.7  \n",
       "..           ...  \n",
       "809          6.2  \n",
       "810         12.2  \n",
       "811          NaN  \n",
       "812         13.3  \n",
       "813          NaN  \n",
       "\n",
       "[814 rows x 20 columns]"
      ]
     },
     "execution_count": 17,
     "metadata": {},
     "output_type": "execute_result"
    }
   ],
   "source": [
    "import pandas as pd\n",
    "df1=pd.read_csv('C:\\\\Users\\\\MANI\\\\comprehensive_mutual_funds_data.csv')\n",
    "df1"
   ]
  },
  {
   "cell_type": "code",
   "execution_count": 18,
   "id": "c363e309",
   "metadata": {},
   "outputs": [
    {
     "name": "stdout",
     "output_type": "stream",
     "text": [
      "<class 'pandas.core.frame.DataFrame'>\n",
      "RangeIndex: 814 entries, 0 to 813\n",
      "Data columns (total 20 columns):\n",
      " #   Column         Non-Null Count  Dtype  \n",
      "---  ------         --------------  -----  \n",
      " 0   scheme_name    814 non-null    object \n",
      " 1   min_sip        814 non-null    int64  \n",
      " 2   min_lumpsum    814 non-null    int64  \n",
      " 3   expense_ratio  814 non-null    float64\n",
      " 4   fund_size_cr   814 non-null    float64\n",
      " 5   fund_age_yr    814 non-null    int64  \n",
      " 6   fund_manager   814 non-null    object \n",
      " 7   sortino        814 non-null    object \n",
      " 8   alpha          814 non-null    object \n",
      " 9   sd             814 non-null    object \n",
      " 10  beta           814 non-null    object \n",
      " 11  sharpe         814 non-null    object \n",
      " 12  risk_level     814 non-null    int64  \n",
      " 13  amc_name       814 non-null    object \n",
      " 14  rating         814 non-null    int64  \n",
      " 15  category       814 non-null    object \n",
      " 16  sub_category   814 non-null    object \n",
      " 17  returns_1yr    814 non-null    float64\n",
      " 18  returns_3yr    793 non-null    float64\n",
      " 19  returns_5yr    647 non-null    float64\n",
      "dtypes: float64(5), int64(5), object(10)\n",
      "memory usage: 127.3+ KB\n"
     ]
    }
   ],
   "source": [
    "df1.info()"
   ]
  },
  {
   "cell_type": "code",
   "execution_count": 19,
   "id": "4a32b3d1",
   "metadata": {},
   "outputs": [
    {
     "data": {
      "text/plain": [
       "<bound method IndexOpsMixin.value_counts of 0      0.27\n",
       "1      0.36\n",
       "2      0.53\n",
       "3      0.76\n",
       "4      0.61\n",
       "       ... \n",
       "809    0.96\n",
       "810    1.16\n",
       "811    0.26\n",
       "812    0.22\n",
       "813    0.33\n",
       "Name: expense_ratio, Length: 814, dtype: float64>"
      ]
     },
     "execution_count": 19,
     "metadata": {},
     "output_type": "execute_result"
    }
   ],
   "source": [
    "df1['expense_ratio'].value_counts"
   ]
  },
  {
   "cell_type": "code",
   "execution_count": 20,
   "id": "4030b10b",
   "metadata": {},
   "outputs": [
    {
     "data": {
      "text/plain": [
       "<BarContainer object of 814 artists>"
      ]
     },
     "execution_count": 20,
     "metadata": {},
     "output_type": "execute_result"
    },
    {
     "data": {
      "image/png": "[encoded data removed]",
      "text/plain": [
       "<Figure size 640x480 with 1 Axes>"
      ]
     },
     "metadata": {},
     "output_type": "display_data"
    }
   ],
   "source": [
    "plt.bar(df1['rating'],5)"
   ]
  },
  {
   "cell_type": "code",
   "execution_count": 21,
   "id": "b10faa06",
   "metadata": {},
   "outputs": [],
   "source": [
    "import numpy as np\n",
    "import pandas as pd\n",
    "import matplotlib.pyplot as plt\n",
    "%matplotlib inline"
   ]
  },
  {
   "cell_type": "code",
   "execution_count": 22,
   "id": "1218eacf",
   "metadata": {},
   "outputs": [
    {
     "data": {
      "text/plain": [
       "<Axes: >"
      ]
     },
     "execution_count": 22,
     "metadata": {},
     "output_type": "execute_result"
    },
    {
     "data": {
      "image/png": "[encoded data removed]",
      "text/plain": [
       "<Figure size 640x480 with 1 Axes>"
      ]
     },
     "metadata": {},
     "output_type": "display_data"
    }
   ],
   "source": [
    "df1['category'].hist()"
   ]
  },
  {
   "cell_type": "code",
   "execution_count": 23,
   "id": "7aa6eb49",
   "metadata": {},
   "outputs": [
    {
     "data": {
      "text/plain": [
       "<Axes: >"
      ]
     },
     "execution_count": 23,
     "metadata": {},
     "output_type": "execute_result"
    },
    {
     "data": {
      "image/png": "[encoded data removed]",
      "text/plain": [
       "<Figure size 640x480 with 1 Axes>"
      ]
     },
     "metadata": {},
     "output_type": "display_data"
    }
   ],
   "source": [
    "#plt.style.use('dark_background')\n",
    "df1['category'].hist()"
   ]
  },
  {
   "cell_type": "code",
   "execution_count": 24,
   "id": "c3c0ec24",
   "metadata": {},
   "outputs": [],
   "source": [
    "plt.style.use('default')"
   ]
  },
  {
   "cell_type": "code",
   "execution_count": 25,
   "id": "9a05084f",
   "metadata": {
    "scrolled": true
   },
   "outputs": [
    {
     "data": {
      "text/plain": [
       "<matplotlib.legend.Legend at 0x1f1f972110>"
      ]
     },
     "execution_count": 25,
     "metadata": {},
     "output_type": "execute_result"
    },
    {
     "data": {
      "image/png": "[encoded data removed]",
      "text/plain": [
       "<Figure size 640x480 with 1 Axes>"
      ]
     },
     "metadata": {},
     "output_type": "display_data"
    }
   ],
   "source": [
    "y=np.array([80,116,28,308,282])\n",
    "category=['Other','Hybrid','Solution Oriented','Equity','Debt']\n",
    "plt.pie(y,labels=category,explode=[0.5,0,0,0,0],shadow=True)\n",
    "plt.legend(title='Mutual Funds',loc='lower center')"
   ]
  },
  {
   "cell_type": "code",
   "execution_count": 26,
   "id": "4a18e76f",
   "metadata": {},
   "outputs": [
    {
     "data": {
      "text/plain": [
       "<matplotlib.legend.Legend at 0x1f1f989210>"
      ]
     },
     "execution_count": 26,
     "metadata": {},
     "output_type": "execute_result"
    },
    {
     "data": {
      "image/png": "[encoded data removed]",
      "text/plain": [
       "<Figure size 640x480 with 1 Axes>"
      ]
     },
     "metadata": {},
     "output_type": "display_data"
    }
   ],
   "source": [
    "y=np.array([80,116,28,308])\n",
    "category=['Other','Hybrid','Solution Oriented','Equity']\n",
    "color=['hotpink','yellow','#4CAF50','cyan']\n",
    "plt.pie(y,labels=category,colors=color,explode=[0,0,0.5,0],shadow=True)\n",
    "plt.legend(title='category Names:')"
   ]
  },
  {
   "cell_type": "code",
   "execution_count": 28,
   "id": "4148d149",
   "metadata": {},
   "outputs": [],
   "source": [
    "plt.style.use('dark_background')"
   ]
  },
  {
   "cell_type": "code",
   "execution_count": null,
   "id": "1a04abb1",
   "metadata": {},
   "outputs": [],
   "source": []
  },
  {
   "cell_type": "code",
   "execution_count": null,
   "id": "fd9c1873",
   "metadata": {},
   "outputs": [],
   "source": []
  },
  {
   "cell_type": "code",
   "execution_count": null,
   "id": "9852baad",
   "metadata": {},
   "outputs": [],
   "source": []
  },
  {
   "cell_type": "code",
   "execution_count": null,
   "id": "3ad2c990",
   "metadata": {},
   "outputs": [],
   "source": []
  },
  {
   "cell_type": "code",
   "execution_count": null,
   "id": "ba30c82e",
   "metadata": {},
   "outputs": [],
   "source": []
  },
  {
   "cell_type": "code",
   "execution_count": null,
   "id": "b66b0a16",
   "metadata": {},
   "outputs": [],
   "source": []
  },
  {
   "cell_type": "code",
   "execution_count": null,
   "id": "281339f8",
   "metadata": {},
   "outputs": [],
   "source": []
  }
 ],
 "metadata": {
  "kernelspec": {
   "display_name": "Python 3 (ipykernel)",
   "language": "python",
   "name": "python3"
  },
  "language_info": {
   "codemirror_mode": {
    "name": "ipython",
    "version": 3
   },
   "file_extension": ".py",
   "mimetype": "text/x-python",
   "name": "python",
   "nbconvert_exporter": "python",
   "pygments_lexer": "ipython3",
   "version": "3.11.5"
  }
 },
 "nbformat": 4,
 "nbformat_minor": 5
}
